{
 "cells": [
  {
   "cell_type": "markdown",
   "id": "c6ce130f",
   "metadata": {},
   "source": [
    "# Table of Contents\n",
    "- Import libraries\n",
    "\n",
    "- Import Data\n",
    "\n",
    "- Data Wrangling\n",
    "\n",
    "- Data Cleaning\n",
    "\n",
    "- Basic Descriptive Stats\n",
    "\n",
    "- Export final data"
   ]
  },
  {
   "cell_type": "markdown",
   "id": "cfd98ade",
   "metadata": {},
   "source": [
    "# 01. Importing Libraries"
   ]
  },
  {
   "cell_type": "code",
   "execution_count": 1,
   "id": "f230bf6c",
   "metadata": {},
   "outputs": [],
   "source": [
    "# Import libraries\n",
    "import pandas as pd\n",
    "import numpy as np\n",
    "import os"
   ]
  },
  {
   "cell_type": "markdown",
   "id": "509abef3",
   "metadata": {},
   "source": [
    "# 02. Importing Data"
   ]
  },
  {
   "cell_type": "code",
   "execution_count": 7,
   "id": "1d318f2c",
   "metadata": {},
   "outputs": [],
   "source": [
    "# Define path\n",
    "path = r'C:\\Users\\tom\\OneDrive\\Documents\\CareerFoundry - Data Analytics Course\\Data Immersion\\Tasks\\Achievement 6\\European Football Analysis'"
   ]
  },
  {
   "cell_type": "code",
   "execution_count": 8,
   "id": "5b35599c",
   "metadata": {},
   "outputs": [],
   "source": [
    "# Import dataframe\n",
    "df_football = pd.read_csv(os.path.join(path, '02 Data', 'Original Data', '2021-2022 Big 5 European Football Leagues RAW.csv'))"
   ]
  },
  {
   "cell_type": "markdown",
   "id": "fd982a35",
   "metadata": {},
   "source": [
    "# 03. Data Wrangling"
   ]
  },
  {
   "cell_type": "code",
   "execution_count": 90,
   "id": "d6e1674f",
   "metadata": {},
   "outputs": [
    {
     "data": {
      "text/plain": [
       "(2921, 35)"
      ]
     },
     "execution_count": 90,
     "metadata": {},
     "output_type": "execute_result"
    }
   ],
   "source": [
    "# Check shape of imported dataframe\n",
    "df_football.shape"
   ]
  },
  {
   "cell_type": "markdown",
   "id": "c14abf21",
   "metadata": {},
   "source": [
    "# a. Data Types"
   ]
  },
  {
   "cell_type": "code",
   "execution_count": 91,
   "id": "190cb321",
   "metadata": {
    "scrolled": true
   },
   "outputs": [
    {
     "data": {
      "text/plain": [
       "Rk             int64\n",
       "Player        object\n",
       "Nation        object\n",
       "Pos           object\n",
       "Squad         object\n",
       "Comp          object\n",
       "Age          float64\n",
       "Born         float64\n",
       "MP             int64\n",
       "Starts         int64\n",
       "Min            int64\n",
       "90s          float64\n",
       "Gls            int64\n",
       "Ast            int64\n",
       "G-PK           int64\n",
       "PK             int64\n",
       "PKatt          int64\n",
       "CrdY           int64\n",
       "CrdR           int64\n",
       "Gls90        float64\n",
       "Ast90        float64\n",
       "G+A90        float64\n",
       "G-PK90       float64\n",
       "G+A-PK90     float64\n",
       "xG           float64\n",
       "npxG         float64\n",
       "xA           float64\n",
       "npxG+xA      float64\n",
       "xG90         float64\n",
       "xA90         float64\n",
       "xG+xA90      float64\n",
       "npxG90       float64\n",
       "npxG+xA90    float64\n",
       "Matches       object\n",
       "-9999         object\n",
       "dtype: object"
      ]
     },
     "execution_count": 91,
     "metadata": {},
     "output_type": "execute_result"
    }
   ],
   "source": [
    "# Checking data types\n",
    "df_football.dtypes"
   ]
  },
  {
   "cell_type": "markdown",
   "id": "71974c83",
   "metadata": {},
   "source": [
    "Age and Born should be integer values as they're exact. However, missing values are preventing me from changing the data types. I will address this in 'missing values'."
   ]
  },
  {
   "cell_type": "markdown",
   "id": "399564b8",
   "metadata": {},
   "source": [
    "# b. Drop Columns"
   ]
  },
  {
   "cell_type": "code",
   "execution_count": 92,
   "id": "2fed59dc",
   "metadata": {},
   "outputs": [],
   "source": [
    "# Drop columns not required\n",
    "df_football = df_football.drop(['Rk', 'Matches', '-9999'], axis = 1)"
   ]
  },
  {
   "cell_type": "markdown",
   "id": "6c697c8d",
   "metadata": {},
   "source": [
    "# c. Rename Columns"
   ]
  },
  {
   "cell_type": "code",
   "execution_count": 93,
   "id": "0a3ee6d5",
   "metadata": {},
   "outputs": [],
   "source": [
    "# Rename columns\n",
    "df_football.rename(columns = {'Pos':'Position', 'Squad':'Team', 'Comp':'Competition', 'MP':'Matches Played', 'Min':'Minutes Played', '90s':'90s Played', 'Gls':'Goals', 'Ast':'Assists', 'G-PK':'Non-Penalty Goals', 'PK':'Penalty Goals', 'PKatt':'Penalty Attempts', 'CrdY':'Yellow Cards', 'CrdR':'Red Cards', 'Gls90':'Goals90', 'Ast90':'Assists90'}, inplace = True)"
   ]
  },
  {
   "cell_type": "code",
   "execution_count": 94,
   "id": "00ab29fb",
   "metadata": {
    "scrolled": false
   },
   "outputs": [
    {
     "data": {
      "text/html": [
       "<div>\n",
       "<style scoped>\n",
       "    .dataframe tbody tr th:only-of-type {\n",
       "        vertical-align: middle;\n",
       "    }\n",
       "\n",
       "    .dataframe tbody tr th {\n",
       "        vertical-align: top;\n",
       "    }\n",
       "\n",
       "    .dataframe thead th {\n",
       "        text-align: right;\n",
       "    }\n",
       "</style>\n",
       "<table border=\"1\" class=\"dataframe\">\n",
       "  <thead>\n",
       "    <tr style=\"text-align: right;\">\n",
       "      <th></th>\n",
       "      <th>Player</th>\n",
       "      <th>Nation</th>\n",
       "      <th>Position</th>\n",
       "      <th>Team</th>\n",
       "      <th>Competition</th>\n",
       "      <th>Age</th>\n",
       "      <th>Born</th>\n",
       "      <th>Matches Played</th>\n",
       "      <th>Starts</th>\n",
       "      <th>Minutes Played</th>\n",
       "      <th>...</th>\n",
       "      <th>G+A-PK90</th>\n",
       "      <th>xG</th>\n",
       "      <th>npxG</th>\n",
       "      <th>xA</th>\n",
       "      <th>npxG+xA</th>\n",
       "      <th>xG90</th>\n",
       "      <th>xA90</th>\n",
       "      <th>xG+xA90</th>\n",
       "      <th>npxG90</th>\n",
       "      <th>npxG+xA90</th>\n",
       "    </tr>\n",
       "  </thead>\n",
       "  <tbody>\n",
       "    <tr>\n",
       "      <th>0</th>\n",
       "      <td>Max Aarons</td>\n",
       "      <td>eng ENG</td>\n",
       "      <td>DF</td>\n",
       "      <td>Norwich City</td>\n",
       "      <td>eng Premier League</td>\n",
       "      <td>21.0</td>\n",
       "      <td>2000.0</td>\n",
       "      <td>34</td>\n",
       "      <td>32</td>\n",
       "      <td>2881</td>\n",
       "      <td>...</td>\n",
       "      <td>0.06</td>\n",
       "      <td>0.7</td>\n",
       "      <td>0.7</td>\n",
       "      <td>1.4</td>\n",
       "      <td>2.1</td>\n",
       "      <td>0.02</td>\n",
       "      <td>0.04</td>\n",
       "      <td>0.07</td>\n",
       "      <td>0.02</td>\n",
       "      <td>0.07</td>\n",
       "    </tr>\n",
       "    <tr>\n",
       "      <th>1</th>\n",
       "      <td>Yunis Abdelhamid</td>\n",
       "      <td>ma MAR</td>\n",
       "      <td>DF</td>\n",
       "      <td>Reims</td>\n",
       "      <td>fr Ligue 1</td>\n",
       "      <td>33.0</td>\n",
       "      <td>1987.0</td>\n",
       "      <td>34</td>\n",
       "      <td>34</td>\n",
       "      <td>2983</td>\n",
       "      <td>...</td>\n",
       "      <td>0.06</td>\n",
       "      <td>1.2</td>\n",
       "      <td>1.2</td>\n",
       "      <td>0.8</td>\n",
       "      <td>2.1</td>\n",
       "      <td>0.04</td>\n",
       "      <td>0.02</td>\n",
       "      <td>0.06</td>\n",
       "      <td>0.04</td>\n",
       "      <td>0.06</td>\n",
       "    </tr>\n",
       "    <tr>\n",
       "      <th>2</th>\n",
       "      <td>Salis Abdul Samed</td>\n",
       "      <td>gh GHA</td>\n",
       "      <td>MF</td>\n",
       "      <td>Clermont Foot</td>\n",
       "      <td>fr Ligue 1</td>\n",
       "      <td>21.0</td>\n",
       "      <td>2000.0</td>\n",
       "      <td>31</td>\n",
       "      <td>29</td>\n",
       "      <td>2462</td>\n",
       "      <td>...</td>\n",
       "      <td>0.04</td>\n",
       "      <td>0.8</td>\n",
       "      <td>0.8</td>\n",
       "      <td>1.1</td>\n",
       "      <td>1.9</td>\n",
       "      <td>0.03</td>\n",
       "      <td>0.04</td>\n",
       "      <td>0.07</td>\n",
       "      <td>0.03</td>\n",
       "      <td>0.07</td>\n",
       "    </tr>\n",
       "    <tr>\n",
       "      <th>3</th>\n",
       "      <td>Laurent Abergel</td>\n",
       "      <td>fr FRA</td>\n",
       "      <td>MF</td>\n",
       "      <td>Lorient</td>\n",
       "      <td>fr Ligue 1</td>\n",
       "      <td>28.0</td>\n",
       "      <td>1993.0</td>\n",
       "      <td>34</td>\n",
       "      <td>34</td>\n",
       "      <td>2956</td>\n",
       "      <td>...</td>\n",
       "      <td>0.06</td>\n",
       "      <td>2.0</td>\n",
       "      <td>2.0</td>\n",
       "      <td>2.9</td>\n",
       "      <td>4.9</td>\n",
       "      <td>0.06</td>\n",
       "      <td>0.09</td>\n",
       "      <td>0.15</td>\n",
       "      <td>0.06</td>\n",
       "      <td>0.15</td>\n",
       "    </tr>\n",
       "    <tr>\n",
       "      <th>4</th>\n",
       "      <td>Charles Abi</td>\n",
       "      <td>fr FRA</td>\n",
       "      <td>FW</td>\n",
       "      <td>Saint-Étienne</td>\n",
       "      <td>fr Ligue 1</td>\n",
       "      <td>21.0</td>\n",
       "      <td>2000.0</td>\n",
       "      <td>1</td>\n",
       "      <td>1</td>\n",
       "      <td>45</td>\n",
       "      <td>...</td>\n",
       "      <td>0.00</td>\n",
       "      <td>0.0</td>\n",
       "      <td>0.0</td>\n",
       "      <td>0.0</td>\n",
       "      <td>0.0</td>\n",
       "      <td>0.00</td>\n",
       "      <td>0.00</td>\n",
       "      <td>0.00</td>\n",
       "      <td>0.00</td>\n",
       "      <td>0.00</td>\n",
       "    </tr>\n",
       "  </tbody>\n",
       "</table>\n",
       "<p>5 rows × 32 columns</p>\n",
       "</div>"
      ],
      "text/plain": [
       "              Player   Nation Position           Team         Competition  \\\n",
       "0         Max Aarons  eng ENG       DF   Norwich City  eng Premier League   \n",
       "1   Yunis Abdelhamid   ma MAR       DF          Reims          fr Ligue 1   \n",
       "2  Salis Abdul Samed   gh GHA       MF  Clermont Foot          fr Ligue 1   \n",
       "3    Laurent Abergel   fr FRA       MF        Lorient          fr Ligue 1   \n",
       "4        Charles Abi   fr FRA       FW  Saint-Étienne          fr Ligue 1   \n",
       "\n",
       "    Age    Born  Matches Played  Starts  Minutes Played  ...  G+A-PK90   xG  \\\n",
       "0  21.0  2000.0              34      32            2881  ...      0.06  0.7   \n",
       "1  33.0  1987.0              34      34            2983  ...      0.06  1.2   \n",
       "2  21.0  2000.0              31      29            2462  ...      0.04  0.8   \n",
       "3  28.0  1993.0              34      34            2956  ...      0.06  2.0   \n",
       "4  21.0  2000.0               1       1              45  ...      0.00  0.0   \n",
       "\n",
       "   npxG   xA  npxG+xA  xG90  xA90  xG+xA90  npxG90  npxG+xA90  \n",
       "0   0.7  1.4      2.1  0.02  0.04     0.07    0.02       0.07  \n",
       "1   1.2  0.8      2.1  0.04  0.02     0.06    0.04       0.06  \n",
       "2   0.8  1.1      1.9  0.03  0.04     0.07    0.03       0.07  \n",
       "3   2.0  2.9      4.9  0.06  0.09     0.15    0.06       0.15  \n",
       "4   0.0  0.0      0.0  0.00  0.00     0.00    0.00       0.00  \n",
       "\n",
       "[5 rows x 32 columns]"
      ]
     },
     "execution_count": 94,
     "metadata": {},
     "output_type": "execute_result"
    }
   ],
   "source": [
    "# Check column names\n",
    "df_football.head()"
   ]
  },
  {
   "cell_type": "markdown",
   "id": "d2714358",
   "metadata": {},
   "source": [
    "# d. Rename Values"
   ]
  },
  {
   "cell_type": "code",
   "execution_count": 95,
   "id": "01fc9053",
   "metadata": {},
   "outputs": [],
   "source": [
    "# Rename Position Values\n",
    "df_football['Position'] = df_football['Position'].replace(['DF','MF','FW','MFFW','FWMF'],['Defender','Midfielder','Forward','Midfielder/Forward','Midfielder/Forward'])"
   ]
  },
  {
   "cell_type": "code",
   "execution_count": 96,
   "id": "4b487845",
   "metadata": {},
   "outputs": [
    {
     "data": {
      "text/plain": [
       "0                 Defender\n",
       "1                 Defender\n",
       "2               Midfielder\n",
       "3               Midfielder\n",
       "4                  Forward\n",
       "               ...        \n",
       "2916            Midfielder\n",
       "2917            Midfielder\n",
       "2918            Midfielder\n",
       "2919               Forward\n",
       "2920    Midfielder/Forward\n",
       "Name: Position, Length: 2921, dtype: object"
      ]
     },
     "execution_count": 96,
     "metadata": {},
     "output_type": "execute_result"
    }
   ],
   "source": [
    "# View Position Values\n",
    "df_football['Position']"
   ]
  },
  {
   "cell_type": "markdown",
   "id": "f1bf9d11",
   "metadata": {},
   "source": [
    "# 04. Data Cleaning"
   ]
  },
  {
   "cell_type": "markdown",
   "id": "d0a3885c",
   "metadata": {},
   "source": [
    "# a. Duplicates"
   ]
  },
  {
   "cell_type": "code",
   "execution_count": 97,
   "id": "b13a06a2",
   "metadata": {
    "scrolled": true
   },
   "outputs": [
    {
     "data": {
      "text/html": [
       "<div>\n",
       "<style scoped>\n",
       "    .dataframe tbody tr th:only-of-type {\n",
       "        vertical-align: middle;\n",
       "    }\n",
       "\n",
       "    .dataframe tbody tr th {\n",
       "        vertical-align: top;\n",
       "    }\n",
       "\n",
       "    .dataframe thead th {\n",
       "        text-align: right;\n",
       "    }\n",
       "</style>\n",
       "<table border=\"1\" class=\"dataframe\">\n",
       "  <thead>\n",
       "    <tr style=\"text-align: right;\">\n",
       "      <th></th>\n",
       "      <th>Player</th>\n",
       "      <th>Nation</th>\n",
       "      <th>Position</th>\n",
       "      <th>Team</th>\n",
       "      <th>Competition</th>\n",
       "      <th>Age</th>\n",
       "      <th>Born</th>\n",
       "      <th>Matches Played</th>\n",
       "      <th>Starts</th>\n",
       "      <th>Minutes Played</th>\n",
       "      <th>...</th>\n",
       "      <th>G+A-PK90</th>\n",
       "      <th>xG</th>\n",
       "      <th>npxG</th>\n",
       "      <th>xA</th>\n",
       "      <th>npxG+xA</th>\n",
       "      <th>xG90</th>\n",
       "      <th>xA90</th>\n",
       "      <th>xG+xA90</th>\n",
       "      <th>npxG90</th>\n",
       "      <th>npxG+xA90</th>\n",
       "    </tr>\n",
       "  </thead>\n",
       "  <tbody>\n",
       "  </tbody>\n",
       "</table>\n",
       "<p>0 rows × 32 columns</p>\n",
       "</div>"
      ],
      "text/plain": [
       "Empty DataFrame\n",
       "Columns: [Player, Nation, Position, Team, Competition, Age, Born, Matches Played, Starts, Minutes Played, 90s Played, Goals, Assists, Non-Penalty Goals, Penalty Goals, Penalty Attempts, Yellow Cards, Red Cards, Goals90, Assists90, G+A90, G-PK90, G+A-PK90, xG, npxG, xA, npxG+xA, xG90, xA90, xG+xA90, npxG90, npxG+xA90]\n",
       "Index: []\n",
       "\n",
       "[0 rows x 32 columns]"
      ]
     },
     "execution_count": 97,
     "metadata": {},
     "output_type": "execute_result"
    }
   ],
   "source": [
    "# Finding duplicate values\n",
    "df_football[df_football.duplicated()]"
   ]
  },
  {
   "cell_type": "markdown",
   "id": "b40b637a",
   "metadata": {},
   "source": [
    "No duplicates found."
   ]
  },
  {
   "cell_type": "markdown",
   "id": "637ecee1",
   "metadata": {},
   "source": [
    "# b. Mixed Data Types"
   ]
  },
  {
   "cell_type": "code",
   "execution_count": 98,
   "id": "4cf321a8",
   "metadata": {},
   "outputs": [
    {
     "name": "stdout",
     "output_type": "stream",
     "text": [
      "Nation\n"
     ]
    }
   ],
   "source": [
    "# Checking mixed data types\n",
    "for col in df_football.columns.tolist():\n",
    "  weird = (df_football[[col]].applymap(type) != df_football[[col]].iloc[0].apply(type)).any(axis = 1)\n",
    "  if len (df_football[weird]) > 0:\n",
    "    print (col)"
   ]
  },
  {
   "cell_type": "code",
   "execution_count": 99,
   "id": "f1ab93ac",
   "metadata": {},
   "outputs": [],
   "source": [
    "# Change Nation data type to string\n",
    "df_football['Nation'] = df_football['Nation'].astype('str')"
   ]
  },
  {
   "cell_type": "markdown",
   "id": "7e0f3c23",
   "metadata": {},
   "source": [
    "# c. Missing Values"
   ]
  },
  {
   "cell_type": "code",
   "execution_count": 100,
   "id": "bf00ddd7",
   "metadata": {
    "scrolled": true
   },
   "outputs": [
    {
     "data": {
      "text/plain": [
       "Player               0\n",
       "Nation               0\n",
       "Position             0\n",
       "Team                 0\n",
       "Competition          0\n",
       "Age                  1\n",
       "Born                 1\n",
       "Matches Played       0\n",
       "Starts               0\n",
       "Minutes Played       0\n",
       "90s Played           0\n",
       "Goals                0\n",
       "Assists              0\n",
       "Non-Penalty Goals    0\n",
       "Penalty Goals        0\n",
       "Penalty Attempts     0\n",
       "Yellow Cards         0\n",
       "Red Cards            0\n",
       "Goals90              0\n",
       "Assists90            0\n",
       "G+A90                0\n",
       "G-PK90               0\n",
       "G+A-PK90             0\n",
       "xG                   0\n",
       "npxG                 0\n",
       "xA                   0\n",
       "npxG+xA              0\n",
       "xG90                 0\n",
       "xA90                 0\n",
       "xG+xA90              0\n",
       "npxG90               0\n",
       "npxG+xA90            0\n",
       "dtype: int64"
      ]
     },
     "execution_count": 100,
     "metadata": {},
     "output_type": "execute_result"
    }
   ],
   "source": [
    "# Check for missing values\n",
    "df_football.isnull().sum()"
   ]
  },
  {
   "cell_type": "code",
   "execution_count": 101,
   "id": "6238c41f",
   "metadata": {},
   "outputs": [],
   "source": [
    "# Add missing values\n",
    "df_football['Age'].fillna(19, inplace=True)\n",
    "df_football['Born'].fillna(2002, inplace=True)"
   ]
  },
  {
   "cell_type": "code",
   "execution_count": 102,
   "id": "4cb9326e",
   "metadata": {
    "scrolled": true
   },
   "outputs": [
    {
     "data": {
      "text/plain": [
       "Player               0\n",
       "Nation               0\n",
       "Position             0\n",
       "Team                 0\n",
       "Competition          0\n",
       "Age                  0\n",
       "Born                 0\n",
       "Matches Played       0\n",
       "Starts               0\n",
       "Minutes Played       0\n",
       "90s Played           0\n",
       "Goals                0\n",
       "Assists              0\n",
       "Non-Penalty Goals    0\n",
       "Penalty Goals        0\n",
       "Penalty Attempts     0\n",
       "Yellow Cards         0\n",
       "Red Cards            0\n",
       "Goals90              0\n",
       "Assists90            0\n",
       "G+A90                0\n",
       "G-PK90               0\n",
       "G+A-PK90             0\n",
       "xG                   0\n",
       "npxG                 0\n",
       "xA                   0\n",
       "npxG+xA              0\n",
       "xG90                 0\n",
       "xA90                 0\n",
       "xG+xA90              0\n",
       "npxG90               0\n",
       "npxG+xA90            0\n",
       "dtype: int64"
      ]
     },
     "execution_count": 102,
     "metadata": {},
     "output_type": "execute_result"
    }
   ],
   "source": [
    "# Check for missing values\n",
    "df_football.isnull().sum()"
   ]
  },
  {
   "cell_type": "code",
   "execution_count": 103,
   "id": "6f6a554c",
   "metadata": {},
   "outputs": [],
   "source": [
    "# Change Age data type to integer\n",
    "df_football['Age'] = df_football['Age'].astype('int64')"
   ]
  },
  {
   "cell_type": "code",
   "execution_count": 104,
   "id": "2194d471",
   "metadata": {},
   "outputs": [],
   "source": [
    "# Change Born data type to integer\n",
    "df_football['Born'] = df_football['Born'].astype('int64')"
   ]
  },
  {
   "cell_type": "code",
   "execution_count": 105,
   "id": "8b9aa48b",
   "metadata": {},
   "outputs": [
    {
     "data": {
      "text/plain": [
       "Player                object\n",
       "Nation                object\n",
       "Position              object\n",
       "Team                  object\n",
       "Competition           object\n",
       "Age                    int64\n",
       "Born                   int64\n",
       "Matches Played         int64\n",
       "Starts                 int64\n",
       "Minutes Played         int64\n",
       "90s Played           float64\n",
       "Goals                  int64\n",
       "Assists                int64\n",
       "Non-Penalty Goals      int64\n",
       "Penalty Goals          int64\n",
       "Penalty Attempts       int64\n",
       "Yellow Cards           int64\n",
       "Red Cards              int64\n",
       "Goals90              float64\n",
       "Assists90            float64\n",
       "G+A90                float64\n",
       "G-PK90               float64\n",
       "G+A-PK90             float64\n",
       "xG                   float64\n",
       "npxG                 float64\n",
       "xA                   float64\n",
       "npxG+xA              float64\n",
       "xG90                 float64\n",
       "xA90                 float64\n",
       "xG+xA90              float64\n",
       "npxG90               float64\n",
       "npxG+xA90            float64\n",
       "dtype: object"
      ]
     },
     "execution_count": 105,
     "metadata": {},
     "output_type": "execute_result"
    }
   ],
   "source": [
    "# Checking data types\n",
    "df_football.dtypes"
   ]
  },
  {
   "cell_type": "markdown",
   "id": "a78144df",
   "metadata": {},
   "source": [
    "# 05. Basic Descriptive Stats\n"
   ]
  },
  {
   "cell_type": "code",
   "execution_count": 106,
   "id": "44a9b33b",
   "metadata": {
    "scrolled": true
   },
   "outputs": [
    {
     "data": {
      "text/html": [
       "<div>\n",
       "<style scoped>\n",
       "    .dataframe tbody tr th:only-of-type {\n",
       "        vertical-align: middle;\n",
       "    }\n",
       "\n",
       "    .dataframe tbody tr th {\n",
       "        vertical-align: top;\n",
       "    }\n",
       "\n",
       "    .dataframe thead th {\n",
       "        text-align: right;\n",
       "    }\n",
       "</style>\n",
       "<table border=\"1\" class=\"dataframe\">\n",
       "  <thead>\n",
       "    <tr style=\"text-align: right;\">\n",
       "      <th></th>\n",
       "      <th>Age</th>\n",
       "      <th>Born</th>\n",
       "      <th>Matches Played</th>\n",
       "      <th>Starts</th>\n",
       "      <th>Minutes Played</th>\n",
       "      <th>90s Played</th>\n",
       "      <th>Goals</th>\n",
       "      <th>Assists</th>\n",
       "      <th>Non-Penalty Goals</th>\n",
       "      <th>Penalty Goals</th>\n",
       "      <th>...</th>\n",
       "      <th>G+A-PK90</th>\n",
       "      <th>xG</th>\n",
       "      <th>npxG</th>\n",
       "      <th>xA</th>\n",
       "      <th>npxG+xA</th>\n",
       "      <th>xG90</th>\n",
       "      <th>xA90</th>\n",
       "      <th>xG+xA90</th>\n",
       "      <th>npxG90</th>\n",
       "      <th>npxG+xA90</th>\n",
       "    </tr>\n",
       "  </thead>\n",
       "  <tbody>\n",
       "    <tr>\n",
       "      <th>count</th>\n",
       "      <td>2921.000000</td>\n",
       "      <td>2921.000000</td>\n",
       "      <td>2921.000000</td>\n",
       "      <td>2921.000000</td>\n",
       "      <td>2921.000000</td>\n",
       "      <td>2921.000000</td>\n",
       "      <td>2921.000000</td>\n",
       "      <td>2921.000000</td>\n",
       "      <td>2921.000000</td>\n",
       "      <td>2921.000000</td>\n",
       "      <td>...</td>\n",
       "      <td>2921.000000</td>\n",
       "      <td>2921.000000</td>\n",
       "      <td>2921.000000</td>\n",
       "      <td>2921.000000</td>\n",
       "      <td>2921.000000</td>\n",
       "      <td>2921.000000</td>\n",
       "      <td>2921.000000</td>\n",
       "      <td>2921.000000</td>\n",
       "      <td>2921.000000</td>\n",
       "      <td>2921.000000</td>\n",
       "    </tr>\n",
       "    <tr>\n",
       "      <th>mean</th>\n",
       "      <td>25.236220</td>\n",
       "      <td>1995.417665</td>\n",
       "      <td>18.803150</td>\n",
       "      <td>13.752824</td>\n",
       "      <td>1234.984937</td>\n",
       "      <td>13.721602</td>\n",
       "      <td>1.702157</td>\n",
       "      <td>1.183499</td>\n",
       "      <td>1.540911</td>\n",
       "      <td>0.161246</td>\n",
       "      <td>...</td>\n",
       "      <td>0.193667</td>\n",
       "      <td>1.710613</td>\n",
       "      <td>1.558028</td>\n",
       "      <td>1.144745</td>\n",
       "      <td>2.703595</td>\n",
       "      <td>0.140051</td>\n",
       "      <td>0.090705</td>\n",
       "      <td>0.230952</td>\n",
       "      <td>0.132116</td>\n",
       "      <td>0.223023</td>\n",
       "    </tr>\n",
       "    <tr>\n",
       "      <th>std</th>\n",
       "      <td>4.635738</td>\n",
       "      <td>4.637490</td>\n",
       "      <td>11.622071</td>\n",
       "      <td>11.395468</td>\n",
       "      <td>978.079236</td>\n",
       "      <td>10.866804</td>\n",
       "      <td>3.185094</td>\n",
       "      <td>1.991217</td>\n",
       "      <td>2.794525</td>\n",
       "      <td>0.726469</td>\n",
       "      <td>...</td>\n",
       "      <td>0.497886</td>\n",
       "      <td>2.837941</td>\n",
       "      <td>2.458917</td>\n",
       "      <td>1.619173</td>\n",
       "      <td>3.715488</td>\n",
       "      <td>0.355142</td>\n",
       "      <td>0.239463</td>\n",
       "      <td>0.454393</td>\n",
       "      <td>0.350370</td>\n",
       "      <td>0.449622</td>\n",
       "    </tr>\n",
       "    <tr>\n",
       "      <th>min</th>\n",
       "      <td>15.000000</td>\n",
       "      <td>1981.000000</td>\n",
       "      <td>1.000000</td>\n",
       "      <td>0.000000</td>\n",
       "      <td>1.000000</td>\n",
       "      <td>0.000000</td>\n",
       "      <td>0.000000</td>\n",
       "      <td>0.000000</td>\n",
       "      <td>0.000000</td>\n",
       "      <td>0.000000</td>\n",
       "      <td>...</td>\n",
       "      <td>0.000000</td>\n",
       "      <td>0.000000</td>\n",
       "      <td>0.000000</td>\n",
       "      <td>0.000000</td>\n",
       "      <td>0.000000</td>\n",
       "      <td>0.000000</td>\n",
       "      <td>0.000000</td>\n",
       "      <td>0.000000</td>\n",
       "      <td>0.000000</td>\n",
       "      <td>0.000000</td>\n",
       "    </tr>\n",
       "    <tr>\n",
       "      <th>25%</th>\n",
       "      <td>22.000000</td>\n",
       "      <td>1992.000000</td>\n",
       "      <td>8.000000</td>\n",
       "      <td>3.000000</td>\n",
       "      <td>307.000000</td>\n",
       "      <td>3.400000</td>\n",
       "      <td>0.000000</td>\n",
       "      <td>0.000000</td>\n",
       "      <td>0.000000</td>\n",
       "      <td>0.000000</td>\n",
       "      <td>...</td>\n",
       "      <td>0.000000</td>\n",
       "      <td>0.100000</td>\n",
       "      <td>0.100000</td>\n",
       "      <td>0.000000</td>\n",
       "      <td>0.200000</td>\n",
       "      <td>0.010000</td>\n",
       "      <td>0.010000</td>\n",
       "      <td>0.040000</td>\n",
       "      <td>0.010000</td>\n",
       "      <td>0.040000</td>\n",
       "    </tr>\n",
       "    <tr>\n",
       "      <th>50%</th>\n",
       "      <td>25.000000</td>\n",
       "      <td>1996.000000</td>\n",
       "      <td>20.000000</td>\n",
       "      <td>12.000000</td>\n",
       "      <td>1102.000000</td>\n",
       "      <td>12.200000</td>\n",
       "      <td>0.000000</td>\n",
       "      <td>0.000000</td>\n",
       "      <td>0.000000</td>\n",
       "      <td>0.000000</td>\n",
       "      <td>...</td>\n",
       "      <td>0.080000</td>\n",
       "      <td>0.600000</td>\n",
       "      <td>0.600000</td>\n",
       "      <td>0.500000</td>\n",
       "      <td>1.300000</td>\n",
       "      <td>0.060000</td>\n",
       "      <td>0.050000</td>\n",
       "      <td>0.130000</td>\n",
       "      <td>0.060000</td>\n",
       "      <td>0.130000</td>\n",
       "    </tr>\n",
       "    <tr>\n",
       "      <th>75%</th>\n",
       "      <td>29.000000</td>\n",
       "      <td>1999.000000</td>\n",
       "      <td>29.000000</td>\n",
       "      <td>23.000000</td>\n",
       "      <td>2025.000000</td>\n",
       "      <td>22.500000</td>\n",
       "      <td>2.000000</td>\n",
       "      <td>2.000000</td>\n",
       "      <td>2.000000</td>\n",
       "      <td>0.000000</td>\n",
       "      <td>...</td>\n",
       "      <td>0.270000</td>\n",
       "      <td>2.000000</td>\n",
       "      <td>1.900000</td>\n",
       "      <td>1.700000</td>\n",
       "      <td>3.600000</td>\n",
       "      <td>0.170000</td>\n",
       "      <td>0.120000</td>\n",
       "      <td>0.320000</td>\n",
       "      <td>0.160000</td>\n",
       "      <td>0.310000</td>\n",
       "    </tr>\n",
       "    <tr>\n",
       "      <th>max</th>\n",
       "      <td>40.000000</td>\n",
       "      <td>2006.000000</td>\n",
       "      <td>38.000000</td>\n",
       "      <td>38.000000</td>\n",
       "      <td>3420.000000</td>\n",
       "      <td>38.000000</td>\n",
       "      <td>35.000000</td>\n",
       "      <td>18.000000</td>\n",
       "      <td>30.000000</td>\n",
       "      <td>9.000000</td>\n",
       "      <td>...</td>\n",
       "      <td>18.000000</td>\n",
       "      <td>32.600000</td>\n",
       "      <td>28.900000</td>\n",
       "      <td>13.200000</td>\n",
       "      <td>34.500000</td>\n",
       "      <td>13.930000</td>\n",
       "      <td>6.520000</td>\n",
       "      <td>13.930000</td>\n",
       "      <td>13.930000</td>\n",
       "      <td>13.930000</td>\n",
       "    </tr>\n",
       "  </tbody>\n",
       "</table>\n",
       "<p>8 rows × 27 columns</p>\n",
       "</div>"
      ],
      "text/plain": [
       "               Age         Born  Matches Played       Starts  Minutes Played  \\\n",
       "count  2921.000000  2921.000000     2921.000000  2921.000000     2921.000000   \n",
       "mean     25.236220  1995.417665       18.803150    13.752824     1234.984937   \n",
       "std       4.635738     4.637490       11.622071    11.395468      978.079236   \n",
       "min      15.000000  1981.000000        1.000000     0.000000        1.000000   \n",
       "25%      22.000000  1992.000000        8.000000     3.000000      307.000000   \n",
       "50%      25.000000  1996.000000       20.000000    12.000000     1102.000000   \n",
       "75%      29.000000  1999.000000       29.000000    23.000000     2025.000000   \n",
       "max      40.000000  2006.000000       38.000000    38.000000     3420.000000   \n",
       "\n",
       "        90s Played        Goals      Assists  Non-Penalty Goals  \\\n",
       "count  2921.000000  2921.000000  2921.000000        2921.000000   \n",
       "mean     13.721602     1.702157     1.183499           1.540911   \n",
       "std      10.866804     3.185094     1.991217           2.794525   \n",
       "min       0.000000     0.000000     0.000000           0.000000   \n",
       "25%       3.400000     0.000000     0.000000           0.000000   \n",
       "50%      12.200000     0.000000     0.000000           0.000000   \n",
       "75%      22.500000     2.000000     2.000000           2.000000   \n",
       "max      38.000000    35.000000    18.000000          30.000000   \n",
       "\n",
       "       Penalty Goals  ...     G+A-PK90           xG         npxG           xA  \\\n",
       "count    2921.000000  ...  2921.000000  2921.000000  2921.000000  2921.000000   \n",
       "mean        0.161246  ...     0.193667     1.710613     1.558028     1.144745   \n",
       "std         0.726469  ...     0.497886     2.837941     2.458917     1.619173   \n",
       "min         0.000000  ...     0.000000     0.000000     0.000000     0.000000   \n",
       "25%         0.000000  ...     0.000000     0.100000     0.100000     0.000000   \n",
       "50%         0.000000  ...     0.080000     0.600000     0.600000     0.500000   \n",
       "75%         0.000000  ...     0.270000     2.000000     1.900000     1.700000   \n",
       "max         9.000000  ...    18.000000    32.600000    28.900000    13.200000   \n",
       "\n",
       "           npxG+xA         xG90         xA90      xG+xA90       npxG90  \\\n",
       "count  2921.000000  2921.000000  2921.000000  2921.000000  2921.000000   \n",
       "mean      2.703595     0.140051     0.090705     0.230952     0.132116   \n",
       "std       3.715488     0.355142     0.239463     0.454393     0.350370   \n",
       "min       0.000000     0.000000     0.000000     0.000000     0.000000   \n",
       "25%       0.200000     0.010000     0.010000     0.040000     0.010000   \n",
       "50%       1.300000     0.060000     0.050000     0.130000     0.060000   \n",
       "75%       3.600000     0.170000     0.120000     0.320000     0.160000   \n",
       "max      34.500000    13.930000     6.520000    13.930000    13.930000   \n",
       "\n",
       "         npxG+xA90  \n",
       "count  2921.000000  \n",
       "mean      0.223023  \n",
       "std       0.449622  \n",
       "min       0.000000  \n",
       "25%       0.040000  \n",
       "50%       0.130000  \n",
       "75%       0.310000  \n",
       "max      13.930000  \n",
       "\n",
       "[8 rows x 27 columns]"
      ]
     },
     "execution_count": 106,
     "metadata": {},
     "output_type": "execute_result"
    }
   ],
   "source": [
    "# Descriptive analysis\n",
    "df_football.describe()"
   ]
  },
  {
   "cell_type": "markdown",
   "id": "54ad6d29",
   "metadata": {},
   "source": [
    "Data seems to be consistent with what I would expect."
   ]
  },
  {
   "cell_type": "markdown",
   "id": "3b6566f7",
   "metadata": {},
   "source": [
    "# 06. Export Data"
   ]
  },
  {
   "cell_type": "code",
   "execution_count": 107,
   "id": "09f85398",
   "metadata": {},
   "outputs": [],
   "source": [
    "# Export new dataframe\n",
    "df_football.to_csv(os.path.join(path, '02 Data', 'Prepared Data', '2021-2022 Big 5 European Football Leagues CLEAN.csv'))"
   ]
  }
 ],
 "metadata": {
  "kernelspec": {
   "display_name": "Python 3 (ipykernel)",
   "language": "python",
   "name": "python3"
  },
  "language_info": {
   "codemirror_mode": {
    "name": "ipython",
    "version": 3
   },
   "file_extension": ".py",
   "mimetype": "text/x-python",
   "name": "python",
   "nbconvert_exporter": "python",
   "pygments_lexer": "ipython3",
   "version": "3.9.12"
  }
 },
 "nbformat": 4,
 "nbformat_minor": 5
}
